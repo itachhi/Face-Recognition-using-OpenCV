{
 "cells": [
  {
   "cell_type": "code",
   "execution_count": null,
   "metadata": {},
   "outputs": [],
   "source": [
    "import cv2"
   ]
  },
  {
   "cell_type": "code",
   "execution_count": 2,
   "metadata": {},
   "outputs": [],
   "source": [
    "img = cv2.imread(\"morgan.jpg\",1)\n",
    "face_cascade = cv2.CascadeClassifier(\"haarcascade_frontalface_default.xml\")"
   ]
  },
  {
   "cell_type": "code",
   "execution_count": 3,
   "metadata": {},
   "outputs": [
    {
     "name": "stdout",
     "output_type": "stream",
     "text": [
      "[[[ 12   0   0]\n",
      "  [ 12   0   0]\n",
      "  [ 10   0   0]\n",
      "  ...\n",
      "  [ 12   0   0]\n",
      "  [ 13   1   1]\n",
      "  [ 14   2   2]]\n",
      "\n",
      " [[ 12   0   0]\n",
      "  [ 12   0   0]\n",
      "  [ 10   0   0]\n",
      "  ...\n",
      "  [ 11   0   0]\n",
      "  [ 12   0   0]\n",
      "  [ 12   0   0]]\n",
      "\n",
      " [[ 10   0   0]\n",
      "  [ 10   0   0]\n",
      "  [ 10   0   0]\n",
      "  ...\n",
      "  [ 12   0   0]\n",
      "  [ 11   0   0]\n",
      "  [ 11   0   0]]\n",
      "\n",
      " ...\n",
      "\n",
      " [[ 92  52  53]\n",
      "  [110  70  71]\n",
      "  [ 73  33  34]\n",
      "  ...\n",
      "  [ 63  11   0]\n",
      "  [ 61  11   0]\n",
      "  [ 60  10   0]]\n",
      "\n",
      " [[ 57  18  20]\n",
      "  [ 71  34  36]\n",
      "  [ 64  27  29]\n",
      "  ...\n",
      "  [ 62  10   0]\n",
      "  [ 62  11   1]\n",
      "  [ 63  12   2]]\n",
      "\n",
      " [[ 54  17  19]\n",
      "  [ 64  27  29]\n",
      "  [ 54  20  21]\n",
      "  ...\n",
      "  [ 61   9   0]\n",
      "  [ 62  11   1]\n",
      "  [ 66  15   5]]]\n"
     ]
    }
   ],
   "source": [
    "print(img)"
   ]
  },
  {
   "cell_type": "code",
   "execution_count": 4,
   "metadata": {},
   "outputs": [
    {
     "name": "stdout",
     "output_type": "stream",
     "text": [
      "(1440, 1080, 3)\n"
     ]
    }
   ],
   "source": [
    "print(img.shape)"
   ]
  },
  {
   "cell_type": "code",
   "execution_count": 5,
   "metadata": {},
   "outputs": [
    {
     "name": "stdout",
     "output_type": "stream",
     "text": [
      "<class 'numpy.ndarray'>\n"
     ]
    }
   ],
   "source": [
    "print(type(img))"
   ]
  },
  {
   "cell_type": "code",
   "execution_count": null,
   "metadata": {},
   "outputs": [],
   "source": [
    "import cv2\n",
    "cv2.imshow(\"image\",img)\n",
    "cv2.waitKey(0)\n",
    "cv2.desroyAllWindow(image)"
   ]
  },
  {
   "cell_type": "code",
   "execution_count": null,
   "metadata": {},
   "outputs": [],
   "source": [
    "import cv2\n",
    "\n",
    "img = cv2.imread(\"morgan.jpg\",1)\n",
    "\n",
    "resize_img = cv2.resize(img , (600,600))\n",
    "\n",
    "cv2.imshow(\"image\",resize_img)\n",
    "\n",
    "cv2.waitKey(0)\n",
    "\n",
    "cv2.desroyAllWindow(image)"
   ]
  },
  {
   "cell_type": "code",
   "execution_count": null,
   "metadata": {},
   "outputs": [],
   "source": [
    "import cv2\n",
    "\n",
    "img = cv2.imread(\"morgan.jpg\",1)\n",
    "\n",
    "resize_img = cv2.resize(img , (int(img.shape[1]/2),int(img.shape[0]/2)))\n",
    "\n",
    "cv2.imshow(\"image\",resize_img)\n",
    "\n",
    "cv2.waitKey(0)\n",
    "\n",
    "cv2.desroyAllWindow(image)"
   ]
  },
  {
   "cell_type": "code",
   "execution_count": null,
   "metadata": {},
   "outputs": [
    {
     "name": "stdout",
     "output_type": "stream",
     "text": [
      "<class 'numpy.ndarray'>\n",
      "[[230 304 773 773]]\n"
     ]
    }
   ],
   "source": [
    "import cv2\n",
    "\n",
    "face_cascade = cv2.CascadeClassifier(\"haarcascade_frontalface_default.xml\")\n",
    "\n",
    "img = cv2.imread(\"morgan.jpg\",1)\n",
    "\n",
    "gray_img = cv2.cvtColor(img, cv2.COLOR_BGR2GRAY)\n",
    "\n",
    "faces = face_cascade.detectMultiScale(gray_img, scaleFactor=1.05, minNeighbors=5)\n",
    "\n",
    "print(type(faces))\n",
    "print(faces)\n",
    "\n",
    "for x,y,w,h in faces:\n",
    "    img = cv2.rectangle(img, (x,y), (x+w,y+h), (0,255,0),3)\n",
    "    \n",
    "resize_img = cv2.resize(img, (int(img.shape[1]/2), int(img.shape[0]/2)))\n",
    "\n",
    "cv2.imshow(\"Gray\",resize_img)\n",
    "\n",
    "cv2.waitKey(0)\n",
    "\n",
    "cv2.destroyAllWindow(Gray)"
   ]
  },
  {
   "cell_type": "code",
   "execution_count": null,
   "metadata": {},
   "outputs": [],
   "source": []
  }
 ],
 "metadata": {
  "kernelspec": {
   "display_name": "Python 3",
   "language": "python",
   "name": "python3"
  },
  "language_info": {
   "codemirror_mode": {
    "name": "ipython",
    "version": 3
   },
   "file_extension": ".py",
   "mimetype": "text/x-python",
   "name": "python",
   "nbconvert_exporter": "python",
   "pygments_lexer": "ipython3",
   "version": "3.8.8"
  }
 },
 "nbformat": 4,
 "nbformat_minor": 2
}
